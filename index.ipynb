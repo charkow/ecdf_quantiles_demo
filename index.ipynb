{
 "cells": [
  {
   "cell_type": "markdown",
   "metadata": {},
   "source": [
    "## ECDF of Completion Parameter by Performance Quantiles\n",
    "### Usage:\n",
    "- Open Index.ipynb\n",
    "- **Run**: Kernel --> Restart Kernel and Run All Cells\n",
    "- Dropdown menu: select completion parameter to investigate\n",
    "- Plot interactivity:\n",
    "    - Zoom, pan , select\n",
    "    - Click on legend to remove/add ECDF\n",
    "\n",
    "### What is this good for?\n",
    "- identification of correlation thresholds\n",
    "- identification of correlation windows\n",
    "- guidance for binning or bins validation\n",
    "\n",
    "### Diagnostic Patterns:\n",
    "- clear performance pattern: sequential progression from top to bottom quantiles\n",
    "- thresholds where quantiles cross or coalesce\n",
    "- correlation window: upper and lower correlation thresholds\n",
    "- no pattern: quantiles overlap\n",
    "\n",
    "### Reference:\n",
    "Groulx, B., Gouveia, J., & Chenery, D. (2017, February 15). Multivariate Analysis Using Advanced Probabilistic Techniques for Completion Design Optimization. Society of Petroleum Engineers. https://doi.org/10.2118/185077-MS"
   ]
  },
  {
   "cell_type": "code",
   "execution_count": 1,
   "metadata": {},
   "outputs": [
    {
     "data": {
      "application/vnd.jupyter.widget-view+json": {
       "model_id": "85ca07a9adeb4270b1d82f241332ffea",
       "version_major": 2,
       "version_minor": 0
      },
      "text/plain": [
       "VBox(children=(HBox(children=(Label(value='Completion Parameter:'), Dropdown(options=('sord_id', 'Fluid', 'Wel…"
      ]
     },
     "metadata": {},
     "output_type": "display_data"
    }
   ],
   "source": [
    "from ecdf_app import *\n",
    "display(ecdf_app)"
   ]
  }
 ],
 "metadata": {
  "kernelspec": {
   "display_name": "Python 3",
   "language": "python",
   "name": "python3"
  },
  "language_info": {
   "codemirror_mode": {
    "name": "ipython",
    "version": 3
   },
   "file_extension": ".py",
   "mimetype": "text/x-python",
   "name": "python",
   "nbconvert_exporter": "python",
   "pygments_lexer": "ipython3",
   "version": "3.6.5"
  }
 },
 "nbformat": 4,
 "nbformat_minor": 2
}
